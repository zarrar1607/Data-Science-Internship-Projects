{
  "cells": [
    {
      "cell_type": "code",
      "execution_count": null,
      "id": "82b2a9d3",
      "metadata": {
        "colab": {
          "base_uri": "https://localhost:8080/"
        },
        "id": "82b2a9d3",
        "outputId": "2fd787c9-d2a2-42b6-cd68-5f079909f79b"
      },
      "outputs": [
        {
          "output_type": "stream",
          "name": "stdout",
          "text": [
            "Downloading data from https://storage.googleapis.com/tensorflow/tf-keras-datasets/mnist.npz\n",
            "11493376/11490434 [==============================] - 0s 0us/step\n",
            "11501568/11490434 [==============================] - 0s 0us/step\n",
            "Epoch 1/12\n",
            "469/469 [==============================] - 156s 332ms/step - loss: 2.2815 - accuracy: 0.1504 - val_loss: 2.2493 - val_accuracy: 0.2753\n",
            "Epoch 2/12\n",
            "469/469 [==============================] - 155s 330ms/step - loss: 2.2316 - accuracy: 0.2502 - val_loss: 2.1880 - val_accuracy: 0.4643\n",
            "Epoch 3/12\n",
            "469/469 [==============================] - 155s 330ms/step - loss: 2.1679 - accuracy: 0.3457 - val_loss: 2.1078 - val_accuracy: 0.6047\n",
            "Epoch 4/12\n",
            "469/469 [==============================] - 154s 329ms/step - loss: 2.0838 - accuracy: 0.4334 - val_loss: 2.0025 - val_accuracy: 0.6979\n",
            "Epoch 5/12\n",
            "469/469 [==============================] - 155s 331ms/step - loss: 1.9743 - accuracy: 0.4970 - val_loss: 1.8652 - val_accuracy: 0.7500\n",
            "Epoch 6/12\n",
            "469/469 [==============================] - 155s 332ms/step - loss: 1.8377 - accuracy: 0.5488 - val_loss: 1.6934 - val_accuracy: 0.7700\n",
            "Epoch 7/12\n",
            "469/469 [==============================] - 156s 333ms/step - loss: 1.6814 - accuracy: 0.5824 - val_loss: 1.4982 - val_accuracy: 0.7866\n",
            "Epoch 8/12\n",
            "469/469 [==============================] - 155s 331ms/step - loss: 1.5135 - accuracy: 0.6155 - val_loss: 1.3017 - val_accuracy: 0.8013\n",
            "Epoch 9/12\n",
            "469/469 [==============================] - 156s 332ms/step - loss: 1.3608 - accuracy: 0.6384 - val_loss: 1.1286 - val_accuracy: 0.8110\n",
            "Epoch 10/12\n",
            "469/469 [==============================] - 156s 333ms/step - loss: 1.2264 - accuracy: 0.6628 - val_loss: 0.9861 - val_accuracy: 0.8241\n",
            "Epoch 11/12\n",
            "469/469 [==============================] - 156s 332ms/step - loss: 1.1239 - accuracy: 0.6828 - val_loss: 0.8750 - val_accuracy: 0.8317\n",
            "Epoch 12/12\n",
            "469/469 [==============================] - 156s 333ms/step - loss: 1.0360 - accuracy: 0.6989 - val_loss: 0.7878 - val_accuracy: 0.8400\n",
            "Test loss: 0.7877634763717651\n",
            "Test accuracy: 0.8399999737739563\n",
            "[7 2 1 0 4]\n",
            "[7 2 1 0 4]\n"
          ]
        }
      ],
      "source": [
        "import keras \n",
        "from keras.datasets import mnist \n",
        "from keras.models import Sequential \n",
        "from keras.layers import Dense, Dropout, Flatten \n",
        "from keras.layers import Conv2D, MaxPooling2D \n",
        "from keras.utils import np_utils\n",
        "from keras import backend as K \n",
        "import numpy as np\n",
        "import tensorflow\n",
        "(x_train, y_train), (x_test, y_test) = mnist.load_data()\n",
        "img_rows, img_cols = 28, 28 \n",
        "if  K.image_data_format()=='channels_first': \n",
        "    x_train=x_train.reshape(x_train.shape[0],1,img_rows,img_cols) \n",
        "    x_test=x_test.reshape(x_test.shape[0],1,img_rows,img_cols) \n",
        "    input_shape=(1,img_rows,img_cols) \n",
        "else: \n",
        "    x_train = x_train.reshape(x_train.shape[0], img_rows, img_cols, 1)\n",
        "    x_test=x_test.reshape(x_test.shape[0], img_rows, img_cols, 1) \n",
        "    input_shape = (img_rows, img_cols, 1) \n",
        "\n",
        "x_train = x_train.astype('float32') \n",
        "x_test = x_test.astype('float32') \n",
        "x_train /= 255 \n",
        "x_test /= 255 \n",
        "y_train = keras.utils.np_utils.to_categorical(y_train, 10) \n",
        "y_test = keras.utils.np_utils.to_categorical(y_test, 10)\n",
        "model = Sequential() \n",
        "model.add(Conv2D(32, kernel_size = (3, 3), activation = 'relu', input_shape = input_shape)) \n",
        "model.add(Conv2D(64, (3, 3), activation = 'relu'))\n",
        "model.add(MaxPooling2D(pool_size = (2, 2)))\n",
        "model.add(Dropout(0.25)) \n",
        "model.add(Flatten())\n",
        "model.add(Dense(128, activation = 'relu'))\n",
        "model.add(Dropout(0.5)) \n",
        "model.add(Dense(10, activation = 'softmax'))\n",
        "model.compile(loss=keras.losses.categorical_crossentropy, optimizer = tensorflow.keras.optimizers.Adadelta(), metrics = ['accuracy'])\n",
        "model.fit( \n",
        "        x_train, y_train,\n",
        "        batch_size = 128, \n",
        "        epochs = 12, \n",
        "        verbose = 1,\n",
        "        validation_data = (x_test, y_test) )\n",
        "score = model.evaluate(x_test, y_test, verbose = 0) \n",
        "print('Test loss:', score[0]) \n",
        "print('Test accuracy:', score[1])\n",
        "pred = model.predict(x_test) \n",
        "pred = np.argmax(pred, axis = 1)[:5] \n",
        "label = np.argmax(y_test,axis = 1)[:5]\n",
        "print(pred) \n",
        "print(label)\n"
      ]
    }
  ],
  "metadata": {
    "kernelspec": {
      "display_name": "Python 3",
      "language": "python",
      "name": "python3"
    },
    "language_info": {
      "codemirror_mode": {
        "name": "ipython",
        "version": 3
      },
      "file_extension": ".py",
      "mimetype": "text/x-python",
      "name": "python",
      "nbconvert_exporter": "python",
      "pygments_lexer": "ipython3",
      "version": "3.8.5"
    },
    "colab": {
      "name": "CNN - Digits.ipynb",
      "provenance": []
    }
  },
  "nbformat": 4,
  "nbformat_minor": 5
}