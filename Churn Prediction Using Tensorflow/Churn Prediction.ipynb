{
  "cells": [
    {
      "cell_type": "code",
      "execution_count": 20,
      "id": "32a760f5",
      "metadata": {
        "id": "32a760f5"
      },
      "outputs": [],
      "source": [
        "# Importing the libraries \n",
        "import numpy as np \n",
        "import matplotlib.pyplot as plt \n",
        "import pandas as pd "
      ]
    },
    {
      "cell_type": "code",
      "execution_count": 21,
      "id": "53918e4b",
      "metadata": {
        "colab": {
          "base_uri": "https://localhost:8080/"
        },
        "id": "53918e4b",
        "outputId": "0b2b719b-5576-44f0-b225-9b80c156dce5"
      },
      "outputs": [
        {
          "name": "stdout",
          "output_type": "stream",
          "text": [
            "<class 'pandas.core.frame.DataFrame'>\n",
            "RangeIndex: 10000 entries, 0 to 9999\n",
            "Data columns (total 14 columns):\n",
            " #   Column           Non-Null Count  Dtype  \n",
            "---  ------           --------------  -----  \n",
            " 0   RowNumber        10000 non-null  int64  \n",
            " 1   CustomerId       10000 non-null  int64  \n",
            " 2   Surname          10000 non-null  object \n",
            " 3   CreditScore      10000 non-null  int64  \n",
            " 4   Geography        10000 non-null  object \n",
            " 5   Gender           10000 non-null  object \n",
            " 6   Age              10000 non-null  int64  \n",
            " 7   Tenure           10000 non-null  int64  \n",
            " 8   Balance          10000 non-null  float64\n",
            " 9   NumOfProducts    10000 non-null  int64  \n",
            " 10  HasCrCard        10000 non-null  int64  \n",
            " 11  IsActiveMember   10000 non-null  int64  \n",
            " 12  EstimatedSalary  10000 non-null  float64\n",
            " 13  Exited           10000 non-null  int64  \n",
            "dtypes: float64(2), int64(9), object(3)\n",
            "memory usage: 1.1+ MB\n"
          ]
        }
      ],
      "source": [
        "# Importing the database \n",
        "dataset = pd.read_csv('Churn_Modelling.csv')\n",
        "dataset.info()"
      ]
    },
    {
      "cell_type": "code",
      "execution_count": 22,
      "id": "81057e57",
      "metadata": {
        "colab": {
          "base_uri": "https://localhost:8080/",
          "height": 215
        },
        "id": "81057e57",
        "outputId": "b01e2f2a-acb2-42cf-85ca-309ac8bd728b"
      },
      "outputs": [
        {
          "data": {
            "text/html": [
              "\n",
              "  <div id=\"df-a3f89581-5bef-4da8-99c3-e2cfeda0e568\">\n",
              "    <div class=\"colab-df-container\">\n",
              "      <div>\n",
              "<style scoped>\n",
              "    .dataframe tbody tr th:only-of-type {\n",
              "        vertical-align: middle;\n",
              "    }\n",
              "\n",
              "    .dataframe tbody tr th {\n",
              "        vertical-align: top;\n",
              "    }\n",
              "\n",
              "    .dataframe thead th {\n",
              "        text-align: right;\n",
              "    }\n",
              "</style>\n",
              "<table border=\"1\" class=\"dataframe\">\n",
              "  <thead>\n",
              "    <tr style=\"text-align: right;\">\n",
              "      <th></th>\n",
              "      <th>RowNumber</th>\n",
              "      <th>CustomerId</th>\n",
              "      <th>Surname</th>\n",
              "      <th>CreditScore</th>\n",
              "      <th>Geography</th>\n",
              "      <th>Gender</th>\n",
              "      <th>Age</th>\n",
              "      <th>Tenure</th>\n",
              "      <th>Balance</th>\n",
              "      <th>NumOfProducts</th>\n",
              "      <th>HasCrCard</th>\n",
              "      <th>IsActiveMember</th>\n",
              "      <th>EstimatedSalary</th>\n",
              "      <th>Exited</th>\n",
              "    </tr>\n",
              "  </thead>\n",
              "  <tbody>\n",
              "    <tr>\n",
              "      <th>0</th>\n",
              "      <td>1</td>\n",
              "      <td>15634602</td>\n",
              "      <td>Hargrave</td>\n",
              "      <td>619</td>\n",
              "      <td>France</td>\n",
              "      <td>Female</td>\n",
              "      <td>42</td>\n",
              "      <td>2</td>\n",
              "      <td>0.00</td>\n",
              "      <td>1</td>\n",
              "      <td>1</td>\n",
              "      <td>1</td>\n",
              "      <td>101348.88</td>\n",
              "      <td>1</td>\n",
              "    </tr>\n",
              "    <tr>\n",
              "      <th>1</th>\n",
              "      <td>2</td>\n",
              "      <td>15647311</td>\n",
              "      <td>Hill</td>\n",
              "      <td>608</td>\n",
              "      <td>Spain</td>\n",
              "      <td>Female</td>\n",
              "      <td>41</td>\n",
              "      <td>1</td>\n",
              "      <td>83807.86</td>\n",
              "      <td>1</td>\n",
              "      <td>0</td>\n",
              "      <td>1</td>\n",
              "      <td>112542.58</td>\n",
              "      <td>0</td>\n",
              "    </tr>\n",
              "    <tr>\n",
              "      <th>2</th>\n",
              "      <td>3</td>\n",
              "      <td>15619304</td>\n",
              "      <td>Onio</td>\n",
              "      <td>502</td>\n",
              "      <td>France</td>\n",
              "      <td>Female</td>\n",
              "      <td>42</td>\n",
              "      <td>8</td>\n",
              "      <td>159660.80</td>\n",
              "      <td>3</td>\n",
              "      <td>1</td>\n",
              "      <td>0</td>\n",
              "      <td>113931.57</td>\n",
              "      <td>1</td>\n",
              "    </tr>\n",
              "    <tr>\n",
              "      <th>3</th>\n",
              "      <td>4</td>\n",
              "      <td>15701354</td>\n",
              "      <td>Boni</td>\n",
              "      <td>699</td>\n",
              "      <td>France</td>\n",
              "      <td>Female</td>\n",
              "      <td>39</td>\n",
              "      <td>1</td>\n",
              "      <td>0.00</td>\n",
              "      <td>2</td>\n",
              "      <td>0</td>\n",
              "      <td>0</td>\n",
              "      <td>93826.63</td>\n",
              "      <td>0</td>\n",
              "    </tr>\n",
              "    <tr>\n",
              "      <th>4</th>\n",
              "      <td>5</td>\n",
              "      <td>15737888</td>\n",
              "      <td>Mitchell</td>\n",
              "      <td>850</td>\n",
              "      <td>Spain</td>\n",
              "      <td>Female</td>\n",
              "      <td>43</td>\n",
              "      <td>2</td>\n",
              "      <td>125510.82</td>\n",
              "      <td>1</td>\n",
              "      <td>1</td>\n",
              "      <td>1</td>\n",
              "      <td>79084.10</td>\n",
              "      <td>0</td>\n",
              "    </tr>\n",
              "  </tbody>\n",
              "</table>\n",
              "</div>\n",
              "      <button class=\"colab-df-convert\" onclick=\"convertToInteractive('df-a3f89581-5bef-4da8-99c3-e2cfeda0e568')\"\n",
              "              title=\"Convert this dataframe to an interactive table.\"\n",
              "              style=\"display:none;\">\n",
              "        \n",
              "  <svg xmlns=\"http://www.w3.org/2000/svg\" height=\"24px\"viewBox=\"0 0 24 24\"\n",
              "       width=\"24px\">\n",
              "    <path d=\"M0 0h24v24H0V0z\" fill=\"none\"/>\n",
              "    <path d=\"M18.56 5.44l.94 2.06.94-2.06 2.06-.94-2.06-.94-.94-2.06-.94 2.06-2.06.94zm-11 1L8.5 8.5l.94-2.06 2.06-.94-2.06-.94L8.5 2.5l-.94 2.06-2.06.94zm10 10l.94 2.06.94-2.06 2.06-.94-2.06-.94-.94-2.06-.94 2.06-2.06.94z\"/><path d=\"M17.41 7.96l-1.37-1.37c-.4-.4-.92-.59-1.43-.59-.52 0-1.04.2-1.43.59L10.3 9.45l-7.72 7.72c-.78.78-.78 2.05 0 2.83L4 21.41c.39.39.9.59 1.41.59.51 0 1.02-.2 1.41-.59l7.78-7.78 2.81-2.81c.8-.78.8-2.07 0-2.86zM5.41 20L4 18.59l7.72-7.72 1.47 1.35L5.41 20z\"/>\n",
              "  </svg>\n",
              "      </button>\n",
              "      \n",
              "  <style>\n",
              "    .colab-df-container {\n",
              "      display:flex;\n",
              "      flex-wrap:wrap;\n",
              "      gap: 12px;\n",
              "    }\n",
              "\n",
              "    .colab-df-convert {\n",
              "      background-color: #E8F0FE;\n",
              "      border: none;\n",
              "      border-radius: 50%;\n",
              "      cursor: pointer;\n",
              "      display: none;\n",
              "      fill: #1967D2;\n",
              "      height: 32px;\n",
              "      padding: 0 0 0 0;\n",
              "      width: 32px;\n",
              "    }\n",
              "\n",
              "    .colab-df-convert:hover {\n",
              "      background-color: #E2EBFA;\n",
              "      box-shadow: 0px 1px 2px rgba(60, 64, 67, 0.3), 0px 1px 3px 1px rgba(60, 64, 67, 0.15);\n",
              "      fill: #174EA6;\n",
              "    }\n",
              "\n",
              "    [theme=dark] .colab-df-convert {\n",
              "      background-color: #3B4455;\n",
              "      fill: #D2E3FC;\n",
              "    }\n",
              "\n",
              "    [theme=dark] .colab-df-convert:hover {\n",
              "      background-color: #434B5C;\n",
              "      box-shadow: 0px 1px 3px 1px rgba(0, 0, 0, 0.15);\n",
              "      filter: drop-shadow(0px 1px 2px rgba(0, 0, 0, 0.3));\n",
              "      fill: #FFFFFF;\n",
              "    }\n",
              "  </style>\n",
              "\n",
              "      <script>\n",
              "        const buttonEl =\n",
              "          document.querySelector('#df-a3f89581-5bef-4da8-99c3-e2cfeda0e568 button.colab-df-convert');\n",
              "        buttonEl.style.display =\n",
              "          google.colab.kernel.accessAllowed ? 'block' : 'none';\n",
              "\n",
              "        async function convertToInteractive(key) {\n",
              "          const element = document.querySelector('#df-a3f89581-5bef-4da8-99c3-e2cfeda0e568');\n",
              "          const dataTable =\n",
              "            await google.colab.kernel.invokeFunction('convertToInteractive',\n",
              "                                                     [key], {});\n",
              "          if (!dataTable) return;\n",
              "\n",
              "          const docLinkHtml = 'Like what you see? Visit the ' +\n",
              "            '<a target=\"_blank\" href=https://colab.research.google.com/notebooks/data_table.ipynb>data table notebook</a>'\n",
              "            + ' to learn more about interactive tables.';\n",
              "          element.innerHTML = '';\n",
              "          dataTable['output_type'] = 'display_data';\n",
              "          await google.colab.output.renderOutput(dataTable, element);\n",
              "          const docLink = document.createElement('div');\n",
              "          docLink.innerHTML = docLinkHtml;\n",
              "          element.appendChild(docLink);\n",
              "        }\n",
              "      </script>\n",
              "    </div>\n",
              "  </div>\n",
              "  "
            ],
            "text/plain": [
              "   RowNumber  CustomerId   Surname  ...  IsActiveMember EstimatedSalary Exited\n",
              "0          1    15634602  Hargrave  ...               1       101348.88      1\n",
              "1          2    15647311      Hill  ...               1       112542.58      0\n",
              "2          3    15619304      Onio  ...               0       113931.57      1\n",
              "3          4    15701354      Boni  ...               0        93826.63      0\n",
              "4          5    15737888  Mitchell  ...               1        79084.10      0\n",
              "\n",
              "[5 rows x 14 columns]"
            ]
          },
          "execution_count": 22,
          "metadata": {},
          "output_type": "execute_result"
        }
      ],
      "source": [
        "dataset.head()"
      ]
    },
    {
      "cell_type": "code",
      "execution_count": 23,
      "id": "8bdd6b08",
      "metadata": {
        "colab": {
          "base_uri": "https://localhost:8080/"
        },
        "id": "8bdd6b08",
        "outputId": "3ab25ff9-49fd-4465-c546-fa9af402777a"
      },
      "outputs": [
        {
          "name": "stdout",
          "output_type": "stream",
          "text": [
            "[[619 'France' 'Female' ... 1 1 101348.88]\n",
            " [608 'Spain' 'Female' ... 0 1 112542.58]\n",
            " [502 'France' 'Female' ... 1 0 113931.57]\n",
            " ...\n",
            " [709 'France' 'Female' ... 0 1 42085.58]\n",
            " [772 'Germany' 'Male' ... 1 0 92888.52]\n",
            " [792 'France' 'Female' ... 1 0 38190.78]]\n",
            "[1 0 1 ... 1 1 0]\n"
          ]
        }
      ],
      "source": [
        "X = dataset.iloc[:, 3:13].values # Gender to EstimatedSalary\n",
        "Y = dataset.iloc[:, 13].values # Exited\n",
        "print(X)\n",
        "print(Y)"
      ]
    },
    {
      "cell_type": "code",
      "execution_count": 25,
      "id": "c0402343",
      "metadata": {
        "colab": {
          "base_uri": "https://localhost:8080/"
        },
        "id": "c0402343",
        "outputId": "b378539c-0957-4d11-d307-786ec8d0d24b"
      },
      "outputs": [
        {
          "data": {
            "text/plain": [
              "array([[0.0000000e+00, 0.0000000e+00, 6.1900000e+02, ..., 1.0000000e+00,\n",
              "        1.0000000e+00, 1.0134888e+05],\n",
              "       [0.0000000e+00, 1.0000000e+00, 6.0800000e+02, ..., 0.0000000e+00,\n",
              "        1.0000000e+00, 1.1254258e+05],\n",
              "       [0.0000000e+00, 0.0000000e+00, 5.0200000e+02, ..., 1.0000000e+00,\n",
              "        0.0000000e+00, 1.1393157e+05],\n",
              "       ...,\n",
              "       [0.0000000e+00, 0.0000000e+00, 7.0900000e+02, ..., 0.0000000e+00,\n",
              "        1.0000000e+00, 4.2085580e+04],\n",
              "       [1.0000000e+00, 0.0000000e+00, 7.7200000e+02, ..., 1.0000000e+00,\n",
              "        0.0000000e+00, 9.2888520e+04],\n",
              "       [0.0000000e+00, 0.0000000e+00, 7.9200000e+02, ..., 1.0000000e+00,\n",
              "        0.0000000e+00, 3.8190780e+04]])"
            ]
          },
          "execution_count": 25,
          "metadata": {},
          "output_type": "execute_result"
        }
      ],
      "source": [
        "from sklearn.compose import ColumnTransformer\n",
        "from sklearn.preprocessing import LabelEncoder,OneHotEncoder \n",
        "# X: int obj obj int int float int int int float\n",
        "labelencoder_X_1=LabelEncoder() \n",
        "X[:,1] = labelencoder_X_1.fit_transform(X[:,1]) \n",
        "labelencoder_X_2=LabelEncoder() \n",
        "X[:, 2] = labelencoder_X_2.fit_transform(X[:, 2]) \n",
        "\n",
        "columnTransformer = ColumnTransformer([('encoder', OneHotEncoder(), [1])], remainder = 'passthrough')\n",
        "X = np.array(columnTransformer.fit_transform(X), dtype = np.float64)\n",
        "X = X[:, 1:]\n",
        "X"
      ]
    },
    {
      "cell_type": "code",
      "execution_count": 26,
      "id": "bad23e3e",
      "metadata": {
        "id": "bad23e3e"
      },
      "outputs": [],
      "source": [
        "#Splitting the dataset into the Training set and the Test Set \n",
        "from sklearn.model_selection import train_test_split \n",
        "X_train, X_test, y_train, y_test = train_test_split(X, Y, test_size = 0.2)\n"
      ]
    },
    {
      "cell_type": "markdown",
      "id": "9f9110df",
      "metadata": {
        "id": "9f9110df"
      },
      "source": [
        "StandardScaler removes the mean and scales each feature/variable to unit variance. This operation is performed feature-wise in an independent way. StandardScaler can be influenced by outliers (if they exist in the dataset) since it involves the estimation of the empirical mean and standard deviation of each feature."
      ]
    },
    {
      "cell_type": "code",
      "execution_count": 27,
      "id": "160022ce",
      "metadata": {
        "id": "160022ce"
      },
      "outputs": [],
      "source": [
        "from sklearn.preprocessing import StandardScaler \n",
        "sc = StandardScaler() \n",
        "X_train = sc.fit_transform(X_train) \n",
        "X_test = sc.transform(X_test)"
      ]
    },
    {
      "cell_type": "code",
      "execution_count": 28,
      "id": "6eb3470b",
      "metadata": {
        "id": "6eb3470b"
      },
      "outputs": [],
      "source": [
        "# Importing the Keras libraries and packages \n",
        "import keras \n",
        "from keras.models import Sequential \n",
        "from keras.layers import Dense"
      ]
    },
    {
      "cell_type": "code",
      "execution_count": 35,
      "id": "2XYkeSv4n-86",
      "metadata": {
        "colab": {
          "base_uri": "https://localhost:8080/"
        },
        "id": "2XYkeSv4n-86",
        "outputId": "38fefa5c-93a7-4c89-b3dd-cbd3a0e5dcf0"
      },
      "outputs": [
        {
          "name": "stdout",
          "output_type": "stream",
          "text": [
            "Model: \"sequential_1\"\n",
            "_________________________________________________________________\n",
            " Layer (type)                Output Shape              Param #   \n",
            "=================================================================\n",
            " dense_3 (Dense)             (None, 6)                 72        \n",
            "                                                                 \n",
            " dense_4 (Dense)             (None, 6)                 42        \n",
            "                                                                 \n",
            " dense_5 (Dense)             (None, 1)                 7         \n",
            "                                                                 \n",
            "=================================================================\n",
            "Total params: 121\n",
            "Trainable params: 121\n",
            "Non-trainable params: 0\n",
            "_________________________________________________________________\n"
          ]
        }
      ],
      "source": [
        "model = Sequential([\n",
        "    Dense(units = 6, kernel_initializer = 'uniform', activation = 'relu', input_dim = 11),\n",
        "    Dense(units = 6, kernel_initializer = 'uniform', activation = 'relu'),\n",
        "    Dense(units = 1, kernel_initializer = 'uniform', activation = 'sigmoid')\n",
        "])\n",
        "model.summary()"
      ]
    },
    {
      "cell_type": "code",
      "execution_count": 39,
      "id": "PC_udQdCoq4g",
      "metadata": {
        "id": "PC_udQdCoq4g"
      },
      "outputs": [],
      "source": [
        "model.compile(loss = 'binary_crossentropy',\n",
        "              optimizer = 'adam', \n",
        "              metrics = ['accuracy']\n",
        "            )"
      ]
    },
    {
      "cell_type": "code",
      "execution_count": 40,
      "id": "DNl3ML2YpXRF",
      "metadata": {
        "colab": {
          "base_uri": "https://localhost:8080/"
        },
        "id": "DNl3ML2YpXRF",
        "outputId": "75f84fa3-41d4-434c-c1c0-bad6b0033796"
      },
      "outputs": [
        {
          "name": "stdout",
          "output_type": "stream",
          "text": [
            "Epoch 1/50\n",
            "800/800 [==============================] - 13s 13ms/step - loss: 0.4802 - accuracy: 0.8039\n",
            "Epoch 2/50\n",
            "800/800 [==============================] - 3s 3ms/step - loss: 0.4026 - accuracy: 0.8311\n",
            "Epoch 3/50\n",
            "800/800 [==============================] - 5s 6ms/step - loss: 0.3886 - accuracy: 0.8329\n",
            "Epoch 4/50\n",
            "800/800 [==============================] - 3s 3ms/step - loss: 0.3796 - accuracy: 0.8351\n",
            "Epoch 5/50\n",
            "800/800 [==============================] - 6s 7ms/step - loss: 0.3728 - accuracy: 0.8379\n",
            "Epoch 6/50\n",
            "800/800 [==============================] - 3s 4ms/step - loss: 0.3682 - accuracy: 0.8438\n",
            "Epoch 7/50\n",
            "800/800 [==============================] - 3s 4ms/step - loss: 0.3632 - accuracy: 0.8526\n",
            "Epoch 8/50\n",
            "800/800 [==============================] - 3s 3ms/step - loss: 0.3603 - accuracy: 0.8545\n",
            "Epoch 9/50\n",
            "800/800 [==============================] - 3s 4ms/step - loss: 0.3568 - accuracy: 0.8541\n",
            "Epoch 10/50\n",
            "800/800 [==============================] - 2s 2ms/step - loss: 0.3553 - accuracy: 0.8576\n",
            "Epoch 11/50\n",
            "800/800 [==============================] - 3s 3ms/step - loss: 0.3531 - accuracy: 0.8570\n",
            "Epoch 12/50\n",
            "800/800 [==============================] - 3s 4ms/step - loss: 0.3509 - accuracy: 0.8614\n",
            "Epoch 13/50\n",
            "800/800 [==============================] - 6s 7ms/step - loss: 0.3497 - accuracy: 0.8581\n",
            "Epoch 14/50\n",
            "800/800 [==============================] - 4s 5ms/step - loss: 0.3489 - accuracy: 0.8568\n",
            "Epoch 15/50\n",
            "800/800 [==============================] - 4s 6ms/step - loss: 0.3477 - accuracy: 0.8600\n",
            "Epoch 16/50\n",
            "800/800 [==============================] - 3s 4ms/step - loss: 0.3464 - accuracy: 0.8585\n",
            "Epoch 17/50\n",
            "800/800 [==============================] - 2s 3ms/step - loss: 0.3448 - accuracy: 0.8591\n",
            "Epoch 18/50\n",
            "800/800 [==============================] - 3s 4ms/step - loss: 0.3449 - accuracy: 0.8608\n",
            "Epoch 19/50\n",
            "800/800 [==============================] - 3s 4ms/step - loss: 0.3432 - accuracy: 0.8604\n",
            "Epoch 20/50\n",
            "800/800 [==============================] - 3s 4ms/step - loss: 0.3422 - accuracy: 0.8622\n",
            "Epoch 21/50\n",
            "800/800 [==============================] - 4s 5ms/step - loss: 0.3413 - accuracy: 0.8624\n",
            "Epoch 22/50\n",
            "800/800 [==============================] - 2s 3ms/step - loss: 0.3411 - accuracy: 0.8614\n",
            "Epoch 23/50\n",
            "800/800 [==============================] - 3s 3ms/step - loss: 0.3408 - accuracy: 0.8602\n",
            "Epoch 24/50\n",
            "800/800 [==============================] - 3s 3ms/step - loss: 0.3397 - accuracy: 0.8619\n",
            "Epoch 25/50\n",
            "800/800 [==============================] - 2s 3ms/step - loss: 0.3394 - accuracy: 0.8620\n",
            "Epoch 26/50\n",
            "800/800 [==============================] - 3s 3ms/step - loss: 0.3382 - accuracy: 0.8621\n",
            "Epoch 27/50\n",
            "800/800 [==============================] - 2s 3ms/step - loss: 0.3386 - accuracy: 0.8610\n",
            "Epoch 28/50\n",
            "800/800 [==============================] - 2s 3ms/step - loss: 0.3379 - accuracy: 0.8624\n",
            "Epoch 29/50\n",
            "800/800 [==============================] - 2s 3ms/step - loss: 0.3373 - accuracy: 0.8639\n",
            "Epoch 30/50\n",
            "800/800 [==============================] - 2s 3ms/step - loss: 0.3375 - accuracy: 0.8633\n",
            "Epoch 31/50\n",
            "800/800 [==============================] - 2s 3ms/step - loss: 0.3374 - accuracy: 0.8619\n",
            "Epoch 32/50\n",
            "800/800 [==============================] - 4s 5ms/step - loss: 0.3376 - accuracy: 0.8634\n",
            "Epoch 33/50\n",
            "800/800 [==============================] - 4s 5ms/step - loss: 0.3356 - accuracy: 0.8637\n",
            "Epoch 34/50\n",
            "800/800 [==============================] - 3s 4ms/step - loss: 0.3364 - accuracy: 0.8633\n",
            "Epoch 35/50\n",
            "800/800 [==============================] - 3s 4ms/step - loss: 0.3356 - accuracy: 0.8616\n",
            "Epoch 36/50\n",
            "800/800 [==============================] - 3s 4ms/step - loss: 0.3374 - accuracy: 0.8633\n",
            "Epoch 37/50\n",
            "800/800 [==============================] - 3s 3ms/step - loss: 0.3356 - accuracy: 0.8654\n",
            "Epoch 38/50\n",
            "800/800 [==============================] - 3s 4ms/step - loss: 0.3360 - accuracy: 0.8629\n",
            "Epoch 39/50\n",
            "800/800 [==============================] - 2s 3ms/step - loss: 0.3347 - accuracy: 0.8622\n",
            "Epoch 40/50\n",
            "800/800 [==============================] - 3s 3ms/step - loss: 0.3337 - accuracy: 0.8664\n",
            "Epoch 41/50\n",
            "800/800 [==============================] - 2s 3ms/step - loss: 0.3355 - accuracy: 0.8641\n",
            "Epoch 42/50\n",
            "800/800 [==============================] - 2s 3ms/step - loss: 0.3345 - accuracy: 0.8640\n",
            "Epoch 43/50\n",
            "800/800 [==============================] - 3s 4ms/step - loss: 0.3348 - accuracy: 0.8635\n",
            "Epoch 44/50\n",
            "800/800 [==============================] - 3s 3ms/step - loss: 0.3347 - accuracy: 0.8641\n",
            "Epoch 45/50\n",
            "800/800 [==============================] - 2s 3ms/step - loss: 0.3343 - accuracy: 0.8662\n",
            "Epoch 46/50\n",
            "800/800 [==============================] - 2s 3ms/step - loss: 0.3345 - accuracy: 0.8634\n",
            "Epoch 47/50\n",
            "800/800 [==============================] - 2s 3ms/step - loss: 0.3337 - accuracy: 0.8637\n",
            "Epoch 48/50\n",
            "800/800 [==============================] - 2s 3ms/step - loss: 0.3347 - accuracy: 0.8637\n",
            "Epoch 49/50\n",
            "800/800 [==============================] - 3s 3ms/step - loss: 0.3332 - accuracy: 0.8655\n",
            "Epoch 50/50\n",
            "800/800 [==============================] - 2s 3ms/step - loss: 0.3331 - accuracy: 0.8668\n"
          ]
        },
        {
          "data": {
            "text/plain": [
              "<keras.callbacks.History at 0x7f5614541950>"
            ]
          },
          "execution_count": 40,
          "metadata": {},
          "output_type": "execute_result"
        }
      ],
      "source": [
        "model.fit(X_train, y_train, batch_size = 10, epochs = 50)"
      ]
    },
    {
      "cell_type": "code",
      "execution_count": 41,
      "id": "H19_6aoqpfaJ",
      "metadata": {
        "colab": {
          "base_uri": "https://localhost:8080/"
        },
        "id": "H19_6aoqpfaJ",
        "outputId": "9285e191-79da-48b5-efc1-5e5e1bc37e8c"
      },
      "outputs": [
        {
          "name": "stdout",
          "output_type": "stream",
          "text": [
            "y_pred [[ True]\n",
            " [False]\n",
            " [False]\n",
            " ...\n",
            " [False]\n",
            " [ True]\n",
            " [ True]]\n",
            "new_prediction [[False]]\n"
          ]
        }
      ],
      "source": [
        "# Predicting the Test set results \n",
        "y_pred = model.predict(X_test) \n",
        "y_pred = (y_pred > 0.5)\n",
        "print('y_pred',y_pred)\n",
        "new_prediction = model.predict(sc.transform (\n",
        "    np.array([[0.0, 0, 500, 1, 40, 3, 50000, 2, 1, 1, 40000]])\n",
        "    ))\n",
        "new_prediction = (new_prediction > 0.5)\n",
        "print('new_prediction',new_prediction)"
      ]
    },
    {
      "cell_type": "code",
      "execution_count": 42,
      "id": "Ak11SqdmqIhq",
      "metadata": {
        "colab": {
          "base_uri": "https://localhost:8080/"
        },
        "id": "Ak11SqdmqIhq",
        "outputId": "a11c622a-5fab-40b7-9cdb-f967726fb5b7"
      },
      "outputs": [
        {
          "name": "stdout",
          "output_type": "stream",
          "text": [
            "[[1471   98]\n",
            " [ 211  220]]\n"
          ]
        }
      ],
      "source": [
        "from sklearn.metrics import confusion_matrix \n",
        "cm = confusion_matrix(y_test, y_pred) \n",
        "print (cm)"
      ]
    }
  ],
  "metadata": {
    "colab": {
      "name": "Churn Prediction.ipynb",
      "provenance": []
    },
    "kernelspec": {
      "display_name": "Python 3",
      "language": "python",
      "name": "python3"
    },
    "language_info": {
      "codemirror_mode": {
        "name": "ipython",
        "version": 3
      },
      "file_extension": ".py",
      "mimetype": "text/x-python",
      "name": "python",
      "nbconvert_exporter": "python",
      "pygments_lexer": "ipython3",
      "version": "3.8.5"
    }
  },
  "nbformat": 4,
  "nbformat_minor": 5
}
